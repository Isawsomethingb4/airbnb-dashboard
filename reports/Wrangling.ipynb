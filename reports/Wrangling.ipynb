{
 "cells": [
  {
   "cell_type": "code",
   "execution_count": 2,
   "metadata": {},
   "outputs": [],
   "source": [
    "import pandas as pd\n",
    "import glob"
   ]
  },
  {
   "cell_type": "code",
   "execution_count": 3,
   "metadata": {},
   "outputs": [],
   "source": [
    "# Creating list of dataframes\n",
    "files = glob.glob('../data/raw/*.csv')\n",
    "city_list = []\n",
    "for f in files:\n",
    "    city = pd.read_csv(f)\n",
    "    city['city'] = f.split('/')[-1].split('.')[0]\n",
    "    city_list.append(city)"
   ]
  },
  {
   "cell_type": "code",
   "execution_count": 4,
   "metadata": {},
   "outputs": [],
   "source": [
    "# Dropping null values\n",
    "cities = pd.concat(city_list, ignore_index=True)\n",
    "cities.drop(columns=['neighbourhood_group'], inplace=True)\n",
    "cities.dropna(subset=['last_review', 'reviews_per_month'], inplace=True)"
   ]
  },
  {
   "cell_type": "code",
   "execution_count": 5,
   "metadata": {},
   "outputs": [],
   "source": [
    "# Creating ratings columns\n",
    "cities['rating'] = cities['name'].str.extract(r'★([\\d.]+)')"
   ]
  },
  {
   "cell_type": "code",
   "execution_count": 6,
   "metadata": {},
   "outputs": [],
   "source": [
    "cities.to_csv(\"../data/processed/airbnb_data.csv\", sep=\",\", index=False)"
   ]
  }
 ],
 "metadata": {
  "kernelspec": {
   "display_name": "base",
   "language": "python",
   "name": "python3"
  },
  "language_info": {
   "codemirror_mode": {
    "name": "ipython",
    "version": 3
   },
   "file_extension": ".py",
   "mimetype": "text/x-python",
   "name": "python",
   "nbconvert_exporter": "python",
   "pygments_lexer": "ipython3",
   "version": "3.11.4"
  },
  "orig_nbformat": 4
 },
 "nbformat": 4,
 "nbformat_minor": 2
}
