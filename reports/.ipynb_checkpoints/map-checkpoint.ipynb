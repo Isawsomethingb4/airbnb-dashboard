{
 "cells": [
  {
   "cell_type": "code",
   "execution_count": 2,
   "metadata": {},
   "outputs": [
    {
     "data": {
      "text/html": [
       "<div>\n",
       "<style scoped>\n",
       "    .dataframe tbody tr th:only-of-type {\n",
       "        vertical-align: middle;\n",
       "    }\n",
       "\n",
       "    .dataframe tbody tr th {\n",
       "        vertical-align: top;\n",
       "    }\n",
       "\n",
       "    .dataframe thead th {\n",
       "        text-align: right;\n",
       "    }\n",
       "</style>\n",
       "<table border=\"1\" class=\"dataframe\">\n",
       "  <thead>\n",
       "    <tr style=\"text-align: right;\">\n",
       "      <th></th>\n",
       "      <th>id</th>\n",
       "      <th>name</th>\n",
       "      <th>host_id</th>\n",
       "      <th>host_name</th>\n",
       "      <th>neighbourhood</th>\n",
       "      <th>latitude</th>\n",
       "      <th>longitude</th>\n",
       "      <th>room_type</th>\n",
       "      <th>price</th>\n",
       "      <th>minimum_nights</th>\n",
       "      <th>number_of_reviews</th>\n",
       "      <th>last_review</th>\n",
       "      <th>reviews_per_month</th>\n",
       "      <th>calculated_host_listings_count</th>\n",
       "      <th>availability_365</th>\n",
       "      <th>number_of_reviews_ltm</th>\n",
       "      <th>license</th>\n",
       "      <th>city</th>\n",
       "      <th>rating</th>\n",
       "    </tr>\n",
       "  </thead>\n",
       "  <tbody>\n",
       "    <tr>\n",
       "      <th>0</th>\n",
       "      <td>1419</td>\n",
       "      <td>Home in Toronto · ★5.0 · 5 bedrooms · 7 beds ·...</td>\n",
       "      <td>1565</td>\n",
       "      <td>Alexandra</td>\n",
       "      <td>Little Portugal</td>\n",
       "      <td>43.64590</td>\n",
       "      <td>-79.42423</td>\n",
       "      <td>Entire home/apt</td>\n",
       "      <td>NaN</td>\n",
       "      <td>28</td>\n",
       "      <td>6</td>\n",
       "      <td>2017-08-07</td>\n",
       "      <td>0.06</td>\n",
       "      <td>1</td>\n",
       "      <td>0</td>\n",
       "      <td>0</td>\n",
       "      <td>NaN</td>\n",
       "      <td>Toronto</td>\n",
       "      <td>5.00</td>\n",
       "    </tr>\n",
       "    <tr>\n",
       "      <th>1</th>\n",
       "      <td>8077</td>\n",
       "      <td>Rental unit in Toronto · ★4.84 · 1 bedroom · 1...</td>\n",
       "      <td>22795</td>\n",
       "      <td>Kathie &amp; Larry</td>\n",
       "      <td>Waterfront Communities-The Island</td>\n",
       "      <td>43.64080</td>\n",
       "      <td>-79.37673</td>\n",
       "      <td>Private room</td>\n",
       "      <td>100.0</td>\n",
       "      <td>180</td>\n",
       "      <td>169</td>\n",
       "      <td>2013-08-27</td>\n",
       "      <td>0.96</td>\n",
       "      <td>2</td>\n",
       "      <td>0</td>\n",
       "      <td>0</td>\n",
       "      <td>NaN</td>\n",
       "      <td>Toronto</td>\n",
       "      <td>4.84</td>\n",
       "    </tr>\n",
       "    <tr>\n",
       "      <th>2</th>\n",
       "      <td>26654</td>\n",
       "      <td>Condo in Toronto · ★4.79 · 1 bedroom · 2 beds ...</td>\n",
       "      <td>113345</td>\n",
       "      <td>Adela</td>\n",
       "      <td>Waterfront Communities-The Island</td>\n",
       "      <td>43.64608</td>\n",
       "      <td>-79.39032</td>\n",
       "      <td>Entire home/apt</td>\n",
       "      <td>145.0</td>\n",
       "      <td>28</td>\n",
       "      <td>42</td>\n",
       "      <td>2023-09-01</td>\n",
       "      <td>0.27</td>\n",
       "      <td>5</td>\n",
       "      <td>77</td>\n",
       "      <td>2</td>\n",
       "      <td>NaN</td>\n",
       "      <td>Toronto</td>\n",
       "      <td>4.79</td>\n",
       "    </tr>\n",
       "    <tr>\n",
       "      <th>3</th>\n",
       "      <td>27423</td>\n",
       "      <td>Rental unit in Toronto · ★4.93 · Studio · 1 be...</td>\n",
       "      <td>118124</td>\n",
       "      <td>Brent</td>\n",
       "      <td>South Riverdale</td>\n",
       "      <td>43.66884</td>\n",
       "      <td>-79.32725</td>\n",
       "      <td>Entire home/apt</td>\n",
       "      <td>75.0</td>\n",
       "      <td>90</td>\n",
       "      <td>28</td>\n",
       "      <td>2023-08-31</td>\n",
       "      <td>0.17</td>\n",
       "      <td>1</td>\n",
       "      <td>215</td>\n",
       "      <td>1</td>\n",
       "      <td>NaN</td>\n",
       "      <td>Toronto</td>\n",
       "      <td>4.93</td>\n",
       "    </tr>\n",
       "    <tr>\n",
       "      <th>4</th>\n",
       "      <td>30931</td>\n",
       "      <td>Rental unit in Toronto · 1 bedroom · 2 beds · ...</td>\n",
       "      <td>22795</td>\n",
       "      <td>Kathie &amp; Larry</td>\n",
       "      <td>Waterfront Communities-The Island</td>\n",
       "      <td>43.64015</td>\n",
       "      <td>-79.37625</td>\n",
       "      <td>Entire home/apt</td>\n",
       "      <td>134.0</td>\n",
       "      <td>180</td>\n",
       "      <td>1</td>\n",
       "      <td>2010-08-11</td>\n",
       "      <td>0.01</td>\n",
       "      <td>2</td>\n",
       "      <td>0</td>\n",
       "      <td>0</td>\n",
       "      <td>NaN</td>\n",
       "      <td>Toronto</td>\n",
       "      <td>NaN</td>\n",
       "    </tr>\n",
       "  </tbody>\n",
       "</table>\n",
       "</div>"
      ],
      "text/plain": [
       "      id                                               name  host_id  \\\n",
       "0   1419  Home in Toronto · ★5.0 · 5 bedrooms · 7 beds ·...     1565   \n",
       "1   8077  Rental unit in Toronto · ★4.84 · 1 bedroom · 1...    22795   \n",
       "2  26654  Condo in Toronto · ★4.79 · 1 bedroom · 2 beds ...   113345   \n",
       "3  27423  Rental unit in Toronto · ★4.93 · Studio · 1 be...   118124   \n",
       "4  30931  Rental unit in Toronto · 1 bedroom · 2 beds · ...    22795   \n",
       "\n",
       "        host_name                      neighbourhood  latitude  longitude  \\\n",
       "0       Alexandra                    Little Portugal  43.64590  -79.42423   \n",
       "1  Kathie & Larry  Waterfront Communities-The Island  43.64080  -79.37673   \n",
       "2           Adela  Waterfront Communities-The Island  43.64608  -79.39032   \n",
       "3           Brent                    South Riverdale  43.66884  -79.32725   \n",
       "4  Kathie & Larry  Waterfront Communities-The Island  43.64015  -79.37625   \n",
       "\n",
       "         room_type  price  minimum_nights  number_of_reviews last_review  \\\n",
       "0  Entire home/apt    NaN              28                  6  2017-08-07   \n",
       "1     Private room  100.0             180                169  2013-08-27   \n",
       "2  Entire home/apt  145.0              28                 42  2023-09-01   \n",
       "3  Entire home/apt   75.0              90                 28  2023-08-31   \n",
       "4  Entire home/apt  134.0             180                  1  2010-08-11   \n",
       "\n",
       "   reviews_per_month  calculated_host_listings_count  availability_365  \\\n",
       "0               0.06                               1                 0   \n",
       "1               0.96                               2                 0   \n",
       "2               0.27                               5                77   \n",
       "3               0.17                               1               215   \n",
       "4               0.01                               2                 0   \n",
       "\n",
       "   number_of_reviews_ltm license     city  rating  \n",
       "0                      0     NaN  Toronto    5.00  \n",
       "1                      0     NaN  Toronto    4.84  \n",
       "2                      2     NaN  Toronto    4.79  \n",
       "3                      1     NaN  Toronto    4.93  \n",
       "4                      0     NaN  Toronto     NaN  "
      ]
     },
     "execution_count": 2,
     "metadata": {},
     "output_type": "execute_result"
    }
   ],
   "source": [
    "import pandas as pd\n",
    "listings=pd.read_csv(\"../data/processed/airbnb_data.csv\")\n",
    "listings.head()"
   ]
  },
  {
   "cell_type": "markdown",
   "metadata": {},
   "source": [
    "#dropdown and listing numbers"
   ]
  },
  {
   "cell_type": "code",
   "execution_count": 18,
   "metadata": {},
   "outputs": [
    {
     "data": {
      "text/plain": [
       "['Toronto',\n",
       " 'Vancouver',\n",
       " 'Quebec City',\n",
       " 'Victoria',\n",
       " 'Winnipeg',\n",
       " 'Montreal',\n",
       " 'New Brunswick']"
      ]
     },
     "execution_count": 18,
     "metadata": {},
     "output_type": "execute_result"
    }
   ],
   "source": [
    "city=listings['city'].unique().tolist()\n",
    "city"
   ]
  },
  {
   "cell_type": "code",
   "execution_count": 32,
   "metadata": {},
   "outputs": [],
   "source": [
    "neighbourhoods=listings.loc[listings['city']=='Vancouver', 'neighbourhood'].unique().tolist()"
   ]
  },
  {
   "cell_type": "code",
   "execution_count": 33,
   "metadata": {},
   "outputs": [
    {
     "data": {
      "text/plain": [
       "[{'label': 'Riley Park', 'value': 'Riley Park'},\n",
       " {'label': 'Downtown', 'value': 'Downtown'},\n",
       " {'label': 'Kensington-Cedar Cottage', 'value': 'Kensington-Cedar Cottage'},\n",
       " {'label': 'Hastings-Sunrise', 'value': 'Hastings-Sunrise'},\n",
       " {'label': 'Grandview-Woodland', 'value': 'Grandview-Woodland'},\n",
       " {'label': 'Mount Pleasant', 'value': 'Mount Pleasant'},\n",
       " {'label': 'West End', 'value': 'West End'},\n",
       " {'label': 'Renfrew-Collingwood', 'value': 'Renfrew-Collingwood'},\n",
       " {'label': 'Kitsilano', 'value': 'Kitsilano'},\n",
       " {'label': 'Downtown Eastside', 'value': 'Downtown Eastside'},\n",
       " {'label': 'Arbutus Ridge', 'value': 'Arbutus Ridge'},\n",
       " {'label': 'Killarney', 'value': 'Killarney'},\n",
       " {'label': 'South Cambie', 'value': 'South Cambie'},\n",
       " {'label': 'Fairview', 'value': 'Fairview'},\n",
       " {'label': 'Dunbar Southlands', 'value': 'Dunbar Southlands'},\n",
       " {'label': 'Strathcona', 'value': 'Strathcona'},\n",
       " {'label': 'West Point Grey', 'value': 'West Point Grey'},\n",
       " {'label': 'Shaughnessy', 'value': 'Shaughnessy'},\n",
       " {'label': 'Kerrisdale', 'value': 'Kerrisdale'},\n",
       " {'label': 'Sunset', 'value': 'Sunset'},\n",
       " {'label': 'Victoria-Fraserview', 'value': 'Victoria-Fraserview'},\n",
       " {'label': 'Marpole', 'value': 'Marpole'},\n",
       " {'label': 'Oakridge', 'value': 'Oakridge'}]"
      ]
     },
     "execution_count": 33,
     "metadata": {},
     "output_type": "execute_result"
    }
   ],
   "source": [
    "[{'label': neighbourhood, 'value': neighbourhood} for neighbourhood in neighbourhoods]"
   ]
  },
  {
   "cell_type": "code",
   "execution_count": 8,
   "metadata": {},
   "outputs": [
    {
     "data": {
      "text/plain": [
       "city      neighbourhood            \n",
       "Montreal  Ahuntsic-Cartierville        184\n",
       "          Anjou                         32\n",
       "          Baie-d'Urfé                    4\n",
       "          Beaconsfield                  21\n",
       "          Côte-Saint-Luc                12\n",
       "                                      ... \n",
       "Winnipeg  St. James                     85\n",
       "          St. Norbert - Seine River     91\n",
       "          St. Vital                    137\n",
       "          Transcona                     71\n",
       "          Waverley West                230\n",
       "Name: id, Length: 408, dtype: int64"
      ]
     },
     "execution_count": 8,
     "metadata": {},
     "output_type": "execute_result"
    }
   ],
   "source": [
    "listings.groupby(['city', 'neighbourhood'])['id'].count()"
   ]
  },
  {
   "cell_type": "code",
   "execution_count": 53,
   "metadata": {},
   "outputs": [],
   "source": [
    "number=listings.groupby(['city', 'neighbourhood'])['id'].count()\n",
    "df=number.loc['Vancouver', ].reset_index().rename(columns={'id':'count'})"
   ]
  },
  {
   "cell_type": "code",
   "execution_count": 63,
   "metadata": {},
   "outputs": [
    {
     "data": {
      "text/html": [
       "\n",
       "<div id=\"altair-viz-fa552983448349bfbdbd501ff9cd3b46\"></div>\n",
       "<script type=\"text/javascript\">\n",
       "  var VEGA_DEBUG = (typeof VEGA_DEBUG == \"undefined\") ? {} : VEGA_DEBUG;\n",
       "  (function(spec, embedOpt){\n",
       "    let outputDiv = document.currentScript.previousElementSibling;\n",
       "    if (outputDiv.id !== \"altair-viz-fa552983448349bfbdbd501ff9cd3b46\") {\n",
       "      outputDiv = document.getElementById(\"altair-viz-fa552983448349bfbdbd501ff9cd3b46\");\n",
       "    }\n",
       "    const paths = {\n",
       "      \"vega\": \"https://cdn.jsdelivr.net/npm//vega@5?noext\",\n",
       "      \"vega-lib\": \"https://cdn.jsdelivr.net/npm//vega-lib?noext\",\n",
       "      \"vega-lite\": \"https://cdn.jsdelivr.net/npm//vega-lite@4.17.0?noext\",\n",
       "      \"vega-embed\": \"https://cdn.jsdelivr.net/npm//vega-embed@6?noext\",\n",
       "    };\n",
       "\n",
       "    function maybeLoadScript(lib, version) {\n",
       "      var key = `${lib.replace(\"-\", \"\")}_version`;\n",
       "      return (VEGA_DEBUG[key] == version) ?\n",
       "        Promise.resolve(paths[lib]) :\n",
       "        new Promise(function(resolve, reject) {\n",
       "          var s = document.createElement('script');\n",
       "          document.getElementsByTagName(\"head\")[0].appendChild(s);\n",
       "          s.async = true;\n",
       "          s.onload = () => {\n",
       "            VEGA_DEBUG[key] = version;\n",
       "            return resolve(paths[lib]);\n",
       "          };\n",
       "          s.onerror = () => reject(`Error loading script: ${paths[lib]}`);\n",
       "          s.src = paths[lib];\n",
       "        });\n",
       "    }\n",
       "\n",
       "    function showError(err) {\n",
       "      outputDiv.innerHTML = `<div class=\"error\" style=\"color:red;\">${err}</div>`;\n",
       "      throw err;\n",
       "    }\n",
       "\n",
       "    function displayChart(vegaEmbed) {\n",
       "      vegaEmbed(outputDiv, spec, embedOpt)\n",
       "        .catch(err => showError(`Javascript Error: ${err.message}<br>This usually means there's a typo in your chart specification. See the javascript console for the full traceback.`));\n",
       "    }\n",
       "\n",
       "    if(typeof define === \"function\" && define.amd) {\n",
       "      requirejs.config({paths});\n",
       "      require([\"vega-embed\"], displayChart, err => showError(`Error loading script: ${err.message}`));\n",
       "    } else {\n",
       "      maybeLoadScript(\"vega\", \"5\")\n",
       "        .then(() => maybeLoadScript(\"vega-lite\", \"4.17.0\"))\n",
       "        .then(() => maybeLoadScript(\"vega-embed\", \"6\"))\n",
       "        .catch(showError)\n",
       "        .then(() => displayChart(vegaEmbed));\n",
       "    }\n",
       "  })({\"config\": {\"view\": {\"continuousWidth\": 400, \"continuousHeight\": 300}}, \"data\": {\"name\": \"data-6d5350da76058f5c96a37d6d50699ae4\"}, \"mark\": \"bar\", \"encoding\": {\"tooltip\": {\"field\": \"count\", \"type\": \"quantitative\"}, \"x\": {\"field\": \"count\", \"title\": \"Total Number\", \"type\": \"quantitative\"}, \"y\": {\"field\": \"neighbourhood\", \"sort\": \"x\", \"title\": \"Neighbourhood\", \"type\": \"nominal\"}}, \"selection\": {\"selector001\": {\"type\": \"interval\", \"bind\": \"scales\", \"encodings\": [\"x\", \"y\"]}}, \"title\": \"Number of Listings\", \"$schema\": \"https://vega.github.io/schema/vega-lite/v4.17.0.json\", \"datasets\": {\"data-6d5350da76058f5c96a37d6d50699ae4\": [{\"neighbourhood\": \"Arbutus Ridge\", \"count\": 86}, {\"neighbourhood\": \"Downtown\", \"count\": 1418}, {\"neighbourhood\": \"Downtown Eastside\", \"count\": 334}, {\"neighbourhood\": \"Dunbar Southlands\", \"count\": 167}, {\"neighbourhood\": \"Fairview\", \"count\": 141}, {\"neighbourhood\": \"Grandview-Woodland\", \"count\": 245}, {\"neighbourhood\": \"Hastings-Sunrise\", \"count\": 240}, {\"neighbourhood\": \"Kensington-Cedar Cottage\", \"count\": 359}, {\"neighbourhood\": \"Kerrisdale\", \"count\": 59}, {\"neighbourhood\": \"Killarney\", \"count\": 72}, {\"neighbourhood\": \"Kitsilano\", \"count\": 419}, {\"neighbourhood\": \"Marpole\", \"count\": 158}, {\"neighbourhood\": \"Mount Pleasant\", \"count\": 348}, {\"neighbourhood\": \"Oakridge\", \"count\": 94}, {\"neighbourhood\": \"Renfrew-Collingwood\", \"count\": 209}, {\"neighbourhood\": \"Riley Park\", \"count\": 271}, {\"neighbourhood\": \"Shaughnessy\", \"count\": 72}, {\"neighbourhood\": \"South Cambie\", \"count\": 60}, {\"neighbourhood\": \"Strathcona\", \"count\": 33}, {\"neighbourhood\": \"Sunset\", \"count\": 143}, {\"neighbourhood\": \"Victoria-Fraserview\", \"count\": 131}, {\"neighbourhood\": \"West End\", \"count\": 400}, {\"neighbourhood\": \"West Point Grey\", \"count\": 93}]}}, {\"mode\": \"vega-lite\"});\n",
       "</script>"
      ],
      "text/plain": [
       "alt.Chart(...)"
      ]
     },
     "execution_count": 63,
     "metadata": {},
     "output_type": "execute_result"
    }
   ],
   "source": [
    "import altair as alt\n",
    "alt.Chart(df, title='Number of Listings').mark_bar().encode(\n",
    "    x=alt.X('count', title='Total Number'),\n",
    "    y=alt.Y('neighbourhood', sort='x', title='Neighbourhood'),\n",
    "    tooltip='count'\n",
    ").interactive()"
   ]
  }
 ],
 "metadata": {
  "kernelspec": {
   "display_name": "base",
   "language": "python",
   "name": "python3"
  },
  "language_info": {
   "codemirror_mode": {
    "name": "ipython",
    "version": 3
   },
   "file_extension": ".py",
   "mimetype": "text/x-python",
   "name": "python",
   "nbconvert_exporter": "python",
   "pygments_lexer": "ipython3",
   "version": "3.11.4"
  }
 },
 "nbformat": 4,
 "nbformat_minor": 2
}
